{
  "nbformat": 4,
  "nbformat_minor": 0,
  "metadata": {
    "colab": {
      "name": "Pytorch_Intro",
      "provenance": [],
      "authorship_tag": "ABX9TyOQWBpjw9fDHoQOyQtjMqCT",
      "include_colab_link": true
    },
    "kernelspec": {
      "name": "python3",
      "display_name": "Python 3"
    },
    "accelerator": "GPU"
  },
  "cells": [
    {
      "cell_type": "markdown",
      "metadata": {
        "id": "view-in-github",
        "colab_type": "text"
      },
      "source": [
        "<a href=\"https://colab.research.google.com/github/SoyabulIslamLincoln/Learn_pytorch/blob/main/Pytorch_Intro.ipynb\" target=\"_parent\"><img src=\"https://colab.research.google.com/assets/colab-badge.svg\" alt=\"Open In Colab\"/></a>"
      ]
    },
    {
      "cell_type": "code",
      "metadata": {
        "id": "P9_HPqaos14Y",
        "colab": {
          "base_uri": "https://localhost:8080/"
        },
        "outputId": "b7d8125e-8320-4183-9101-f2ff17bc3c80"
      },
      "source": [
        "from __future__ import print_function\r\n",
        "import torch\r\n",
        "import numpy as np\r\n",
        "\r\n",
        "a= np.ones(5)\r\n",
        "b= torch.from_numpy(a)\r\n",
        "\r\n",
        "np.add(a, 1, out=a)\r\n",
        "print(a)\r\n",
        "print(b)"
      ],
      "execution_count": 1,
      "outputs": [
        {
          "output_type": "stream",
          "text": [
            "[2. 2. 2. 2. 2.]\n",
            "tensor([2., 2., 2., 2., 2.], dtype=torch.float64)\n"
          ],
          "name": "stdout"
        }
      ]
    },
    {
      "cell_type": "code",
      "metadata": {
        "colab": {
          "base_uri": "https://localhost:8080/"
        },
        "id": "EDtV64nzHXX_",
        "outputId": "3a69095d-b720-4eec-d68d-b9edde999ee5"
      },
      "source": [
        "x= torch.randn(1)\r\n",
        "if torch.cuda.is_available():\r\n",
        "  device = torch.device(\"cuda\")\r\n",
        "  \r\n",
        "  y = torch.ones_like(x, device= device)\r\n",
        "  x = x.to(device)\r\n",
        "  z = x+y\r\n",
        "  print(z)\r\n",
        "  print(z.to(\"cpu\", torch.double))"
      ],
      "execution_count": 4,
      "outputs": [
        {
          "output_type": "stream",
          "text": [
            "tensor([0.5026], device='cuda:0')\n",
            "tensor([0.5026], dtype=torch.float64)\n"
          ],
          "name": "stdout"
        }
      ]
    },
    {
      "cell_type": "code",
      "metadata": {
        "colab": {
          "base_uri": "https://localhost:8080/"
        },
        "id": "gQwBD9caH3nR",
        "outputId": "d0273a32-5826-46b2-a413-caf4f642400b"
      },
      "source": [
        "x= torch.empty(5,3)\r\n",
        "print(x)"
      ],
      "execution_count": 6,
      "outputs": [
        {
          "output_type": "stream",
          "text": [
            "tensor([[-2.4142e-01,  0.0000e+00, -9.6483e-17],\n",
            "        [ 1.6057e-39,  7.1746e-42,  1.3000e-39],\n",
            "        [-9.7350e-17,  1.6064e-39,  7.1746e-42],\n",
            "        [ 1.3000e-39, -9.8218e-17,  1.6071e-39],\n",
            "        [ 7.1746e-42,  1.3000e-39, -9.9085e-17]])\n"
          ],
          "name": "stdout"
        }
      ]
    },
    {
      "cell_type": "code",
      "metadata": {
        "colab": {
          "base_uri": "https://localhost:8080/"
        },
        "id": "MLrm8p8yIjTB",
        "outputId": "5d247e2d-067d-4357-b060-c80122fab7b0"
      },
      "source": [
        "x = torch.rand(5,3)\r\n",
        "print(x)"
      ],
      "execution_count": 7,
      "outputs": [
        {
          "output_type": "stream",
          "text": [
            "tensor([[0.2042, 0.7571, 0.3267],\n",
            "        [0.9236, 0.0977, 0.2108],\n",
            "        [0.5307, 0.1357, 0.2645],\n",
            "        [0.2077, 0.1168, 0.4475],\n",
            "        [0.8634, 0.5650, 0.7590]])\n"
          ],
          "name": "stdout"
        }
      ]
    },
    {
      "cell_type": "code",
      "metadata": {
        "colab": {
          "base_uri": "https://localhost:8080/"
        },
        "id": "Wlvshy_sIpSg",
        "outputId": "16ab8b62-3eb8-4bd1-d8d0-71508a0029cc"
      },
      "source": [
        "x = torch.ones(5,3, dtype= torch.long)\r\n",
        "print(x)"
      ],
      "execution_count": 10,
      "outputs": [
        {
          "output_type": "stream",
          "text": [
            "tensor([[1, 1, 1],\n",
            "        [1, 1, 1],\n",
            "        [1, 1, 1],\n",
            "        [1, 1, 1],\n",
            "        [1, 1, 1]])\n"
          ],
          "name": "stdout"
        }
      ]
    },
    {
      "cell_type": "code",
      "metadata": {
        "colab": {
          "base_uri": "https://localhost:8080/",
          "height": 36
        },
        "id": "ybmvIbIaI8vx",
        "outputId": "e4ea16ff-a660-4cdb-ce3c-54f48d1e9dfe"
      },
      "source": [
        "x.type()"
      ],
      "execution_count": 11,
      "outputs": [
        {
          "output_type": "execute_result",
          "data": {
            "application/vnd.google.colaboratory.intrinsic+json": {
              "type": "string"
            },
            "text/plain": [
              "'torch.LongTensor'"
            ]
          },
          "metadata": {
            "tags": []
          },
          "execution_count": 11
        }
      ]
    },
    {
      "cell_type": "code",
      "metadata": {
        "colab": {
          "base_uri": "https://localhost:8080/"
        },
        "id": "jnVULwg5JGAR",
        "outputId": "7c811362-a030-46fc-bbf1-335b1cf49eef"
      },
      "source": [
        "x = x.new_ones(5, 3, dtype= torch.double)\r\n",
        "print(x)"
      ],
      "execution_count": 12,
      "outputs": [
        {
          "output_type": "stream",
          "text": [
            "tensor([[1., 1., 1.],\n",
            "        [1., 1., 1.],\n",
            "        [1., 1., 1.],\n",
            "        [1., 1., 1.],\n",
            "        [1., 1., 1.]], dtype=torch.float64)\n"
          ],
          "name": "stdout"
        }
      ]
    },
    {
      "cell_type": "code",
      "metadata": {
        "colab": {
          "base_uri": "https://localhost:8080/"
        },
        "id": "LBcVHnI5JRep",
        "outputId": "a8214b01-0050-4ee0-bf06-0b96aadd3fec"
      },
      "source": [
        "x= torch.randn_like(x, dtype= torch.float)\r\n",
        "print(x)"
      ],
      "execution_count": 14,
      "outputs": [
        {
          "output_type": "stream",
          "text": [
            "tensor([[-0.4423, -0.4718, -1.3410],\n",
            "        [ 0.2022,  0.8314,  0.3232],\n",
            "        [ 1.2811, -0.9014, -0.7767],\n",
            "        [-2.3620, -0.2148,  0.0113],\n",
            "        [ 0.7023,  0.5752,  1.2510]])\n"
          ],
          "name": "stdout"
        }
      ]
    },
    {
      "cell_type": "markdown",
      "metadata": {
        "id": "JZo19Lk0KnoB"
      },
      "source": [
        "# **Diffrent type of sum techniques**"
      ]
    },
    {
      "cell_type": "code",
      "metadata": {
        "colab": {
          "base_uri": "https://localhost:8080/"
        },
        "id": "UhV3KDIQJ3Wp",
        "outputId": "5b05b116-8f64-4285-b284-fa0e6975187e"
      },
      "source": [
        "y= torch.rand(5, 3)\r\n",
        "print(x+y)\r\n",
        "#using add\r\n",
        "print(torch.add(x,y))\r\n",
        "\r\n",
        "result= torch.empty(5,3)\r\n",
        "torch.add(x, y, out= result)\r\n",
        "print(result)"
      ],
      "execution_count": 16,
      "outputs": [
        {
          "output_type": "stream",
          "text": [
            "tensor([[-0.3104, -0.2026, -0.7738],\n",
            "        [ 0.2734,  1.1353,  0.8651],\n",
            "        [ 2.0926, -0.1091, -0.6196],\n",
            "        [-1.6671,  0.4833,  0.4107],\n",
            "        [ 1.3378,  1.1125,  1.4908]])\n",
            "tensor([[-0.3104, -0.2026, -0.7738],\n",
            "        [ 0.2734,  1.1353,  0.8651],\n",
            "        [ 2.0926, -0.1091, -0.6196],\n",
            "        [-1.6671,  0.4833,  0.4107],\n",
            "        [ 1.3378,  1.1125,  1.4908]])\n",
            "tensor([[-0.3104, -0.2026, -0.7738],\n",
            "        [ 0.2734,  1.1353,  0.8651],\n",
            "        [ 2.0926, -0.1091, -0.6196],\n",
            "        [-1.6671,  0.4833,  0.4107],\n",
            "        [ 1.3378,  1.1125,  1.4908]])\n"
          ],
          "name": "stdout"
        }
      ]
    },
    {
      "cell_type": "code",
      "metadata": {
        "colab": {
          "base_uri": "https://localhost:8080/"
        },
        "id": "kKhW6UY2NyRR",
        "outputId": "78b9f9af-c6dc-4499-b3c7-bfb83d138ffd"
      },
      "source": [
        "y.add_(x)\r\n",
        "print(y)"
      ],
      "execution_count": 17,
      "outputs": [
        {
          "output_type": "stream",
          "text": [
            "tensor([[-0.3104, -0.2026, -0.7738],\n",
            "        [ 0.2734,  1.1353,  0.8651],\n",
            "        [ 2.0926, -0.1091, -0.6196],\n",
            "        [-1.6671,  0.4833,  0.4107],\n",
            "        [ 1.3378,  1.1125,  1.4908]])\n"
          ],
          "name": "stdout"
        }
      ]
    },
    {
      "cell_type": "markdown",
      "metadata": {
        "id": "kZlRhIZZOBe5"
      },
      "source": [
        "# **Numpy to torch and torch to numpy**"
      ]
    },
    {
      "cell_type": "code",
      "metadata": {
        "colab": {
          "base_uri": "https://localhost:8080/"
        },
        "id": "utM8X2rFN4e8",
        "outputId": "0a8122f3-9c34-40cb-82d3-0459d338e14b"
      },
      "source": [
        "a = np.ones((5,3))\r\n",
        "b= torch.from_numpy(a)\r\n",
        "print(b)\r\n"
      ],
      "execution_count": 19,
      "outputs": [
        {
          "output_type": "stream",
          "text": [
            "tensor([[1., 1., 1.],\n",
            "        [1., 1., 1.],\n",
            "        [1., 1., 1.],\n",
            "        [1., 1., 1.],\n",
            "        [1., 1., 1.]], dtype=torch.float64)\n"
          ],
          "name": "stdout"
        }
      ]
    },
    {
      "cell_type": "code",
      "metadata": {
        "id": "N4riP6DFORjh"
      },
      "source": [
        ""
      ],
      "execution_count": null,
      "outputs": []
    }
  ]
}