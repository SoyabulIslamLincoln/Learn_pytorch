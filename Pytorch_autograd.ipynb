{
  "nbformat": 4,
  "nbformat_minor": 0,
  "metadata": {
    "colab": {
      "name": "Pytorch_autograd",
      "provenance": [],
      "collapsed_sections": [],
      "authorship_tag": "ABX9TyMAM4JACOlX9dB4HdQz7TH0",
      "include_colab_link": true
    },
    "kernelspec": {
      "name": "python3",
      "display_name": "Python 3"
    }
  },
  "cells": [
    {
      "cell_type": "markdown",
      "metadata": {
        "id": "view-in-github",
        "colab_type": "text"
      },
      "source": [
        "<a href=\"https://colab.research.google.com/github/SoyabulIslamLincoln/Learn_pytorch/blob/main/Pytorch_autograd.ipynb\" target=\"_parent\"><img src=\"https://colab.research.google.com/assets/colab-badge.svg\" alt=\"Open In Colab\"/></a>"
      ]
    },
    {
      "cell_type": "code",
      "metadata": {
        "id": "QBOEak3jdsEy",
        "colab": {
          "base_uri": "https://localhost:8080/"
        },
        "outputId": "49d799d3-20de-40c3-aa5f-182d45678fc8"
      },
      "source": [
        "import torch\r\n",
        "x= torch.ones(2,2, requires_grad= True)\r\n",
        "print(x)"
      ],
      "execution_count": 3,
      "outputs": [
        {
          "output_type": "stream",
          "text": [
            "tensor([[1., 1.],\n",
            "        [1., 1.]], requires_grad=True)\n"
          ],
          "name": "stdout"
        }
      ]
    },
    {
      "cell_type": "code",
      "metadata": {
        "colab": {
          "base_uri": "https://localhost:8080/"
        },
        "id": "6lOy1_zTN5cF",
        "outputId": "a35cac29-0d55-4c93-c1df-1d2b68ff5bd1"
      },
      "source": [
        "y= x+5\r\n",
        "print(y)\r\n",
        "\r\n"
      ],
      "execution_count": 4,
      "outputs": [
        {
          "output_type": "stream",
          "text": [
            "tensor([[6., 6.],\n",
            "        [6., 6.]], grad_fn=<AddBackward0>)\n"
          ],
          "name": "stdout"
        }
      ]
    },
    {
      "cell_type": "code",
      "metadata": {
        "colab": {
          "base_uri": "https://localhost:8080/"
        },
        "id": "BWR4siWqOBs0",
        "outputId": "afa62699-7d72-4061-e532-74ba5bc18107"
      },
      "source": [
        "print(y.grad_fn)"
      ],
      "execution_count": 5,
      "outputs": [
        {
          "output_type": "stream",
          "text": [
            "<AddBackward0 object at 0x7f49371796d8>\n"
          ],
          "name": "stdout"
        }
      ]
    },
    {
      "cell_type": "code",
      "metadata": {
        "colab": {
          "base_uri": "https://localhost:8080/"
        },
        "id": "r6gwbLlyOFXU",
        "outputId": "ce8a959d-1b57-424d-c9a2-d376a7c2f2c1"
      },
      "source": [
        "z= x*y*3\r\n",
        "out=z.mean()\r\n",
        "print(z, out)\r\n",
        "print(z.grad_fn)"
      ],
      "execution_count": 13,
      "outputs": [
        {
          "output_type": "stream",
          "text": [
            "tensor([[18., 18.],\n",
            "        [18., 18.]], grad_fn=<MulBackward0>) tensor(18., grad_fn=<MeanBackward0>)\n",
            "<MulBackward0 object at 0x7f492f35d278>\n"
          ],
          "name": "stdout"
        }
      ]
    },
    {
      "cell_type": "code",
      "metadata": {
        "colab": {
          "base_uri": "https://localhost:8080/"
        },
        "id": "wfxPIKMOOKHy",
        "outputId": "c036d3d2-16ad-4401-f910-e98c6fdb6733"
      },
      "source": [
        "a= torch.randn(2,4)\r\n",
        "a=((a*4)/ (a-2))\r\n",
        "print(a.requires_grad)\r\n",
        "print('\\n')\r\n",
        "print('...............')\r\n",
        "a.requires_grad_(True)\r\n",
        "print(a.requires_grad)\r\n",
        "\r\n",
        "\r\n",
        "b= (a*a*a).sum()\r\n",
        "print(b.grad_fn)"
      ],
      "execution_count": 9,
      "outputs": [
        {
          "output_type": "stream",
          "text": [
            "False\n",
            "\n",
            "\n",
            "...............\n",
            "True\n",
            "<SumBackward0 object at 0x7f492f3ca518>\n"
          ],
          "name": "stdout"
        }
      ]
    },
    {
      "cell_type": "code",
      "metadata": {
        "id": "5FmK3tWAP7VE"
      },
      "source": [
        "out.backward()"
      ],
      "execution_count": 15,
      "outputs": []
    },
    {
      "cell_type": "code",
      "metadata": {
        "colab": {
          "base_uri": "https://localhost:8080/"
        },
        "id": "MPGEi8PLQ_Wr",
        "outputId": "98f4dfc0-3b57-4efa-f0d7-54f4aa241ec5"
      },
      "source": [
        "print(x.grad)"
      ],
      "execution_count": 18,
      "outputs": [
        {
          "output_type": "stream",
          "text": [
            "tensor([[5.2500, 5.2500],\n",
            "        [5.2500, 5.2500]])\n"
          ],
          "name": "stdout"
        }
      ]
    },
    {
      "cell_type": "markdown",
      "metadata": {
        "id": "8B0qHh36Rl_s"
      },
      "source": [
        "# *Vector_jacobian Product*"
      ]
    },
    {
      "cell_type": "code",
      "metadata": {
        "colab": {
          "base_uri": "https://localhost:8080/"
        },
        "id": "bwEchbUBRTsj",
        "outputId": "b48c534e-fbe9-4ab4-f0a8-b6397ef9d1aa"
      },
      "source": [
        "x=torch.randn((3,3), requires_grad= True)\r\n",
        "\r\n",
        "y= x*2\r\n",
        "\r\n",
        "while y.data.norm() <1000:\r\n",
        "  y= y*2\r\n",
        "print(y)"
      ],
      "execution_count": 20,
      "outputs": [
        {
          "output_type": "stream",
          "text": [
            "tensor([[ 630.2293,  625.6577,  554.0425],\n",
            "        [ 909.0107,  461.0019,  378.0074],\n",
            "        [-173.1994,   80.9338,  -84.3679]], grad_fn=<MulBackward0>)\n"
          ],
          "name": "stdout"
        }
      ]
    },
    {
      "cell_type": "code",
      "metadata": {
        "colab": {
          "base_uri": "https://localhost:8080/"
        },
        "id": "H4wGsiswR6Mr",
        "outputId": "c0f9b048-6bb3-492e-a58c-a8689a8ea9b7"
      },
      "source": [
        "v= torch.tensor([[1.01, 0.05, 2.3], [2.5, 4.7, 2.2], [1.3, 4.5, 7.8]], dtype= torch.float)\r\n",
        "y.backward(v)\r\n",
        "\r\n",
        "print(x.grad)"
      ],
      "execution_count": 21,
      "outputs": [
        {
          "output_type": "stream",
          "text": [
            "tensor([[ 517.1200,   25.6000, 1177.6000],\n",
            "        [1280.0000, 2406.3999, 1126.4000],\n",
            "        [ 665.6000, 2304.0000, 3993.6001]])\n"
          ],
          "name": "stdout"
        }
      ]
    },
    {
      "cell_type": "code",
      "metadata": {
        "colab": {
          "base_uri": "https://localhost:8080/"
        },
        "id": "0xi61EvvSZ_M",
        "outputId": "af4586ff-8df8-433c-e7e7-b30a5f5569a7"
      },
      "source": [
        "print(x.requires_grad)\r\n",
        "print('\\n')\r\n",
        "print((x**5).requires_grad)\r\n",
        "print('\\n')\r\n",
        "\r\n",
        "with torch.no_grad():\r\n",
        "  print((x**3).requires_grad)"
      ],
      "execution_count": 24,
      "outputs": [
        {
          "output_type": "stream",
          "text": [
            "True\n",
            "\n",
            "\n",
            "True\n",
            "\n",
            "\n",
            "False\n"
          ],
          "name": "stdout"
        }
      ]
    },
    {
      "cell_type": "code",
      "metadata": {
        "colab": {
          "base_uri": "https://localhost:8080/"
        },
        "id": "VRHAYV0sS6Ds",
        "outputId": "e3f150f3-fd86-429e-8feb-57edda169ba5"
      },
      "source": [
        "print(x.requires_grad)\r\n",
        "y = x.detach()\r\n",
        "print(y.requires_grad)\r\n",
        "print(x.eq(y).all())"
      ],
      "execution_count": 25,
      "outputs": [
        {
          "output_type": "stream",
          "text": [
            "True\n",
            "False\n",
            "tensor(True)\n"
          ],
          "name": "stdout"
        }
      ]
    },
    {
      "cell_type": "code",
      "metadata": {
        "id": "2cTE9acMVAm3"
      },
      "source": [
        ""
      ],
      "execution_count": null,
      "outputs": []
    }
  ]
}